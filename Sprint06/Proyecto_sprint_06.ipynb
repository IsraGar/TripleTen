{
 "cells": [
  {
   "cell_type": "markdown",
   "metadata": {},
   "source": [
    "¡Hola,Israel!\n",
    "\n",
    "Mi nombre es Tonatiuh Cruz. Me complace revisar tu proyecto hoy.\n",
    "\n",
    "Al identificar cualquier error inicialmente, simplemente los destacaré. Te animo a localizar y abordar los problemas de forma independiente como parte de tu preparación para un rol como data-analyst. En un entorno profesional, tu líder de equipo seguiría un enfoque similar. Si encuentras la tarea desafiante, proporcionaré una pista más específica en la próxima iteración.\n",
    "\n",
    "Encontrarás mis comentarios a continuación - **por favor no los muevas, modifiques o elimines**.\n",
    "\n",
    "Puedes encontrar mis comentarios en cajas verdes, amarillas o rojas como esta:\n",
    "\n",
    "<div class=\"alert alert-block alert-success\">\n",
    "<b>Comentario del revisor</b> <a class=\"tocSkip\"></a>\n",
    "\n",
    "Éxito. Todo está hecho correctamente.\n",
    "</div>\n",
    "\n",
    "<div class=\"alert alert-block alert-warning\">\n",
    "<b>Comentario del revisor</b> <a class=\"tocSkip\"></a>\n",
    "\n",
    "Observaciones. Algunas recomendaciones.\n",
    "</div>\n",
    "\n",
    "<div class=\"alert alert-block alert-danger\">\n",
    "<b>Comentario del revisor</b> <a class=\"tocSkip\"></a>\n",
    "\n",
    "Necesita corrección. El bloque requiere algunas correcciones. El trabajo no puede ser aceptado con comentarios en rojo.\n",
    "</div>\n",
    "\n",
    "Puedes responderme utilizando esto: \n",
    "\n",
    "<div class=\"alert alert-block alert-info\">\n",
    "<b>Comentario del alumno</b> <a class=\"tocSkip\"></a>"
   ]
  },
  {
   "cell_type": "markdown",
   "metadata": {},
   "source": [
    "<div class=\"alert alert-block alert-success\">\n",
    "<b>Resumen de la revisión 1</b> <a class=\"tocSkip\"></a>\n",
    "\n",
    "Hola Israel! Has hecho un excelente trabajo, cada vez más cercas de convertirte en un analista de datos. Realizaste la carga de bases, su análisis inicial, sus ajustes, un análisis de algunos variables conmplementado con gráficas y el desarrollo de las pruebas de hipótesis. Solamente te dejo algunos comentarios para complementar el análisis. \n",
    "\n",
    "Sigue con el excelente trabajo!\n",
    "</div>"
   ]
  },
  {
   "cell_type": "markdown",
   "metadata": {},
   "source": [
    "### Carga de librerías y dataset"
   ]
  },
  {
   "cell_type": "code",
   "execution_count": 2,
   "metadata": {},
   "outputs": [],
   "source": [
    "import pandas as pd\n",
    "import numpy as np\n",
    "import seaborn as sns\n",
    "from matplotlib import pyplot as plt\n",
    "from scipy import stats as st"
   ]
  },
  {
   "cell_type": "code",
   "execution_count": 3,
   "metadata": {},
   "outputs": [
    {
     "name": "stdout",
     "output_type": "stream",
     "text": [
      "<class 'pandas.core.frame.DataFrame'>\n",
      "RangeIndex: 16715 entries, 0 to 16714\n",
      "Data columns (total 11 columns):\n",
      " #   Column           Non-Null Count  Dtype  \n",
      "---  ------           --------------  -----  \n",
      " 0   Name             16713 non-null  object \n",
      " 1   Platform         16715 non-null  object \n",
      " 2   Year_of_Release  16446 non-null  float64\n",
      " 3   Genre            16713 non-null  object \n",
      " 4   NA_sales         16715 non-null  float64\n",
      " 5   EU_sales         16715 non-null  float64\n",
      " 6   JP_sales         16715 non-null  float64\n",
      " 7   Other_sales      16715 non-null  float64\n",
      " 8   Critic_Score     8137 non-null   float64\n",
      " 9   User_Score       10014 non-null  object \n",
      " 10  Rating           9949 non-null   object \n",
      "dtypes: float64(6), object(5)\n",
      "memory usage: 1.4+ MB\n"
     ]
    }
   ],
   "source": [
    "df = pd.read_csv('/datasets/games.csv')\n",
    "df.info()"
   ]
  },
  {
   "cell_type": "markdown",
   "metadata": {},
   "source": [
    "<div class=\"alert alert-block alert-success\">\n",
    "<b>Comentario del revisor:</b> <a class=\"tocSkip\"></a>\n",
    "    \n",
    "Has realizado un excelente trabajo al importar los datos y las bibliotecas necesarias.\n",
    "\n",
    "</div>"
   ]
  },
  {
   "cell_type": "markdown",
   "metadata": {},
   "source": [
    "### Preparar los datos"
   ]
  },
  {
   "cell_type": "code",
   "execution_count": 4,
   "metadata": {},
   "outputs": [
    {
     "name": "stdout",
     "output_type": "stream",
     "text": [
      "Index(['Name', 'Platform', 'Year_of_Release', 'Genre', 'NA_sales', 'EU_sales',\n",
      "       'JP_sales', 'Other_sales', 'Critic_Score', 'User_Score', 'Rating'],\n",
      "      dtype='object')\n",
      "Index(['name', 'platform', 'year_of_release', 'genre', 'na_sales', 'eu_sales',\n",
      "       'jp_sales', 'other_sales', 'critic_score', 'user_score', 'rating'],\n",
      "      dtype='object')\n"
     ]
    }
   ],
   "source": [
    "print(df.columns)\n",
    "columns_new = {}\n",
    "for col in df.columns:\n",
    "    col_final_name = col.lower()\n",
    "    columns_new[col] = col_final_name\n",
    "\n",
    "df.rename(columns=columns_new, inplace=True)\n",
    "print(df.columns)"
   ]
  },
  {
   "cell_type": "code",
   "execution_count": 5,
   "metadata": {},
   "outputs": [
    {
     "name": "stdout",
     "output_type": "stream",
     "text": [
      "<class 'pandas.core.frame.DataFrame'>\n",
      "Int64Index: 16446 entries, 0 to 16714\n",
      "Data columns (total 11 columns):\n",
      " #   Column           Non-Null Count  Dtype  \n",
      "---  ------           --------------  -----  \n",
      " 0   name             16444 non-null  object \n",
      " 1   platform         16446 non-null  object \n",
      " 2   year_of_release  16446 non-null  int64  \n",
      " 3   genre            16444 non-null  object \n",
      " 4   na_sales         16446 non-null  float64\n",
      " 5   eu_sales         16446 non-null  float64\n",
      " 6   jp_sales         16446 non-null  float64\n",
      " 7   other_sales      16446 non-null  float64\n",
      " 8   critic_score     16446 non-null  float64\n",
      " 9   user_score       16446 non-null  float64\n",
      " 10  rating           16446 non-null  object \n",
      "dtypes: float64(6), int64(1), object(4)\n",
      "memory usage: 1.5+ MB\n"
     ]
    }
   ],
   "source": [
    "df = df.dropna(subset=['year_of_release'])\n",
    "df['year_of_release'] = df['year_of_release'].astype('int')\n",
    "df['user_score'] = pd.to_numeric(df['user_score'], errors='coerce')\n",
    "critic_score_mean = np.round(df['critic_score'].mean(),2)\n",
    "df['critic_score'] = df['critic_score'].fillna(critic_score_mean)\n",
    "user_score_mean = np.round(df['user_score'].mean(),2)\n",
    "df['user_score'] = df['user_score'].fillna(user_score_mean)\n",
    "df['rating'] = df['rating'].fillna('')\n",
    "df.info()"
   ]
  },
  {
   "cell_type": "markdown",
   "metadata": {},
   "source": [
    "*Decidí eliminar los registros que no tenían asignado un año de lanzamiento ya que son muy pocos en comparación con el número total de registros y má adelante necesitaré esta columna para analizar la información por periodos*\n",
    "\n",
    "*Se agrego el valor de la media para los valores ausentes de las columnas critic_score y user_score. Se reemplazaron los valores asusentes de la columna rating por string vacíos*\n",
    "\n",
    "*Se hizo cambio de datos de la columna \"year_of_release\" (float to int) y de la columna user_score (object to float)*"
   ]
  },
  {
   "cell_type": "code",
   "execution_count": 6,
   "metadata": {},
   "outputs": [
    {
     "data": {
      "text/html": [
       "<div>\n",
       "<style scoped>\n",
       "    .dataframe tbody tr th:only-of-type {\n",
       "        vertical-align: middle;\n",
       "    }\n",
       "\n",
       "    .dataframe tbody tr th {\n",
       "        vertical-align: top;\n",
       "    }\n",
       "\n",
       "    .dataframe thead th {\n",
       "        text-align: right;\n",
       "    }\n",
       "</style>\n",
       "<table border=\"1\" class=\"dataframe\">\n",
       "  <thead>\n",
       "    <tr style=\"text-align: right;\">\n",
       "      <th></th>\n",
       "      <th>name</th>\n",
       "      <th>platform</th>\n",
       "      <th>year_of_release</th>\n",
       "      <th>genre</th>\n",
       "      <th>na_sales</th>\n",
       "      <th>eu_sales</th>\n",
       "      <th>jp_sales</th>\n",
       "      <th>other_sales</th>\n",
       "      <th>critic_score</th>\n",
       "      <th>user_score</th>\n",
       "      <th>rating</th>\n",
       "      <th>total_sales</th>\n",
       "    </tr>\n",
       "  </thead>\n",
       "  <tbody>\n",
       "    <tr>\n",
       "      <th>0</th>\n",
       "      <td>Wii Sports</td>\n",
       "      <td>Wii</td>\n",
       "      <td>2006</td>\n",
       "      <td>Sports</td>\n",
       "      <td>41.36</td>\n",
       "      <td>28.96</td>\n",
       "      <td>3.77</td>\n",
       "      <td>8.45</td>\n",
       "      <td>76.00</td>\n",
       "      <td>8.00</td>\n",
       "      <td>E</td>\n",
       "      <td>82.54</td>\n",
       "    </tr>\n",
       "    <tr>\n",
       "      <th>1</th>\n",
       "      <td>Super Mario Bros.</td>\n",
       "      <td>NES</td>\n",
       "      <td>1985</td>\n",
       "      <td>Platform</td>\n",
       "      <td>29.08</td>\n",
       "      <td>3.58</td>\n",
       "      <td>6.81</td>\n",
       "      <td>0.77</td>\n",
       "      <td>68.99</td>\n",
       "      <td>7.13</td>\n",
       "      <td></td>\n",
       "      <td>40.24</td>\n",
       "    </tr>\n",
       "    <tr>\n",
       "      <th>2</th>\n",
       "      <td>Mario Kart Wii</td>\n",
       "      <td>Wii</td>\n",
       "      <td>2008</td>\n",
       "      <td>Racing</td>\n",
       "      <td>15.68</td>\n",
       "      <td>12.76</td>\n",
       "      <td>3.79</td>\n",
       "      <td>3.29</td>\n",
       "      <td>82.00</td>\n",
       "      <td>8.30</td>\n",
       "      <td>E</td>\n",
       "      <td>35.52</td>\n",
       "    </tr>\n",
       "    <tr>\n",
       "      <th>3</th>\n",
       "      <td>Wii Sports Resort</td>\n",
       "      <td>Wii</td>\n",
       "      <td>2009</td>\n",
       "      <td>Sports</td>\n",
       "      <td>15.61</td>\n",
       "      <td>10.93</td>\n",
       "      <td>3.28</td>\n",
       "      <td>2.95</td>\n",
       "      <td>80.00</td>\n",
       "      <td>8.00</td>\n",
       "      <td>E</td>\n",
       "      <td>32.77</td>\n",
       "    </tr>\n",
       "    <tr>\n",
       "      <th>4</th>\n",
       "      <td>Pokemon Red/Pokemon Blue</td>\n",
       "      <td>GB</td>\n",
       "      <td>1996</td>\n",
       "      <td>Role-Playing</td>\n",
       "      <td>11.27</td>\n",
       "      <td>8.89</td>\n",
       "      <td>10.22</td>\n",
       "      <td>1.00</td>\n",
       "      <td>68.99</td>\n",
       "      <td>7.13</td>\n",
       "      <td></td>\n",
       "      <td>31.38</td>\n",
       "    </tr>\n",
       "  </tbody>\n",
       "</table>\n",
       "</div>"
      ],
      "text/plain": [
       "                       name platform  year_of_release         genre  na_sales  \\\n",
       "0                Wii Sports      Wii             2006        Sports     41.36   \n",
       "1         Super Mario Bros.      NES             1985      Platform     29.08   \n",
       "2            Mario Kart Wii      Wii             2008        Racing     15.68   \n",
       "3         Wii Sports Resort      Wii             2009        Sports     15.61   \n",
       "4  Pokemon Red/Pokemon Blue       GB             1996  Role-Playing     11.27   \n",
       "\n",
       "   eu_sales  jp_sales  other_sales  critic_score  user_score rating  \\\n",
       "0     28.96      3.77         8.45         76.00        8.00      E   \n",
       "1      3.58      6.81         0.77         68.99        7.13          \n",
       "2     12.76      3.79         3.29         82.00        8.30      E   \n",
       "3     10.93      3.28         2.95         80.00        8.00      E   \n",
       "4      8.89     10.22         1.00         68.99        7.13          \n",
       "\n",
       "   total_sales  \n",
       "0        82.54  \n",
       "1        40.24  \n",
       "2        35.52  \n",
       "3        32.77  \n",
       "4        31.38  "
      ]
     },
     "execution_count": 6,
     "metadata": {},
     "output_type": "execute_result"
    }
   ],
   "source": [
    "df['total_sales'] = df['na_sales'] + df['eu_sales'] + df['jp_sales'] + df['other_sales']\n",
    "df.head()"
   ]
  },
  {
   "cell_type": "markdown",
   "metadata": {},
   "source": [
    "<div class=\"alert alert-block alert-success\">\n",
    "<b>Comentario del revisor:</b> <a class=\"tocSkip\"></a>\n",
    "    \n",
    "Hola! Muy buen trabajo en la sección, ajustaste los nombres de las columnas a minúsculas con el uso de la función str.lower(), cambiaste el tipo de variable de la base de datos y muy buen trabajo con la suma de todas las ventas. \n"
   ]
  },
  {
   "cell_type": "markdown",
   "metadata": {},
   "source": [
    "*Se agrego una columna adicional \"total_sales\" sumando las ventas registradas en las columnas de ventas.*"
   ]
  },
  {
   "cell_type": "markdown",
   "metadata": {},
   "source": [
    "### Análisis de los datos"
   ]
  },
  {
   "cell_type": "code",
   "execution_count": 7,
   "metadata": {},
   "outputs": [
    {
     "data": {
      "image/png": "[encoded data removed]",
      "text/plain": [
       "<Figure size 640x480 with 1 Axes>"
      ]
     },
     "metadata": {},
     "output_type": "display_data"
    }
   ],
   "source": [
    "df_games_by_year = df.groupby(by='year_of_release')['name'].count()\n",
    "df_games_by_year.plot(title='Juegos lanzados por año',\n",
    "                     ylabel='Juegos lanzados',\n",
    "                     xlabel='Año')\n",
    "plt.show()"
   ]
  },
  {
   "cell_type": "markdown",
   "metadata": {},
   "source": [
    "<div class=\"alert alert-block alert-success\">\n",
    "<b>Comentario del revisor:</b> <a class=\"tocSkip\"></a>\n",
    "    \n",
    "Gran trabajo, esta gráfica nos ayuda a entender el comportamiento del mercado de videojuegos en el tiempo\n",
    "\n"
   ]
  },
  {
   "cell_type": "markdown",
   "metadata": {},
   "source": [
    "*Se puede apreciar que entre el año 2007 y 2009 fueron los años dónde hubo más lanzamientos de juegos. Del año 1990 hasta el 2009 la cantidad de juegos lanzados tendía a incrementar*"
   ]
  },
  {
   "cell_type": "code",
   "execution_count": 8,
   "metadata": {},
   "outputs": [
    {
     "name": "stdout",
     "output_type": "stream",
     "text": [
      "   platform  year_of_release  total_sales\n",
      "0      2600             1980        11.38\n",
      "1      2600             1981        35.68\n",
      "2      2600             1982        28.88\n",
      "3      2600             1983         5.84\n",
      "4      2600             1984         0.27\n",
      "5      2600             1985         0.45\n",
      "6      2600             1986         0.67\n",
      "7      2600             1987         1.94\n",
      "8      2600             1988         0.74\n",
      "9      2600             1989         0.63\n",
      "10      3DO             1994         0.02\n",
      "11      3DO             1995         0.08\n",
      "12      3DS             2011        63.20\n",
      "13      3DS             2012        51.36\n",
      "14      3DS             2013        56.57\n",
      "15      3DS             2014        43.76\n",
      "16      3DS             2015        27.78\n",
      "17      3DS             2016        15.14\n",
      "18       DC             1998         3.38\n",
      "19       DC             1999         5.16\n",
      "20       DC             2000         5.99\n",
      "21       DC             2001         1.07\n",
      "22       DC             2002         0.29\n",
      "23       DC             2007         0.02\n",
      "24       DC             2008         0.04\n"
     ]
    }
   ],
   "source": [
    "#Agrupar por plataforma y año de lanzamiento para el primer vistazo\n",
    "df_platform_year_group = df.groupby(by=['platform', 'year_of_release'])['total_sales'].sum().reset_index()\n",
    "print(df_platform_year_group.head(25))"
   ]
  },
  {
   "cell_type": "code",
   "execution_count": 9,
   "metadata": {},
   "outputs": [
    {
     "name": "stdout",
     "output_type": "stream",
     "text": [
      "Top plataformas con mayores ventas totales:\n",
      "platform\n",
      "PS2     1233.56\n",
      "X360     961.24\n",
      "PS3      931.34\n",
      "Wii      891.18\n",
      "DS       802.78\n",
      "Name: total_sales, dtype: float64\n"
     ]
    }
   ],
   "source": [
    "#Agrupar datos por plataforma y calcular ventas totales\n",
    "total_sales_by_platform = df.groupby(\"platform\")[\"total_sales\"].sum().sort_values(ascending=False)\n",
    "#Guardar en una lista las plataformas top\n",
    "top_platforms = total_sales_by_platform.head(5).index.tolist()\n",
    "\n",
    "print(\"Top plataformas con mayores ventas totales:\")\n",
    "print(total_sales_by_platform.head(5))"
   ]
  },
  {
   "cell_type": "code",
   "execution_count": 10,
   "metadata": {},
   "outputs": [
    {
     "data": {
      "image/png": "[encoded data removed]",
      "text/plain": [
       "<Figure size 640x480 with 1 Axes>"
      ]
     },
     "metadata": {},
     "output_type": "display_data"
    }
   ],
   "source": [
    "# Filtrar datos para traer agrupado solo de plataformas top\n",
    "sales_top = df_platform_year_group[df_platform_year_group[\"platform\"].isin(top_platforms)]\n",
    "# Gráfico de líneas\n",
    "#No encontré una manera de cambiar el color de las líneas con matplotlib pero\n",
    "#encontré una manera de ajustarlo con sns y combinar ambas librerías\n",
    "plt.figure()\n",
    "sns.lineplot(data=sales_top, x=\"year_of_release\", y=\"total_sales\", hue=\"platform\", marker=\"o\")\n",
    "plt.title(\"Ventas por año de las plataformas más exitosas\")\n",
    "plt.xlabel(\"Año\")\n",
    "plt.ylabel(\"Ventas (millones de dólares)\")\n",
    "plt.legend(title=\"Plataforma\")\n",
    "plt.tight_layout()\n",
    "plt.show()"
   ]
  },
  {
   "cell_type": "code",
   "execution_count": 11,
   "metadata": {},
   "outputs": [
    {
     "name": "stdout",
     "output_type": "stream",
     "text": [
      "Plataformas desaparecidas antes de 2015:\n",
      "   platform  start_activity  end_activity  live_duration\n",
      "4        DS            1985          2013             28\n",
      "16      PS2            2000          2011             11\n",
      "29       XB            2000          2008              8\n",
      "3        DC            1998          2008             10\n",
      "6       GBA            2000          2007              7\n",
      "7        GC            2001          2007              6\n",
      "15       PS            1994          2003              9\n",
      "10      N64            1996          2002              6\n",
      "5        GB            1988          2001             13\n",
      "25       WS            1999          2001              2\n",
      "23     SNES            1990          1999              9\n",
      "21      SAT            1994          1999              5\n",
      "12       NG            1993          1996              3\n",
      "14     PCFX            1996          1996              0\n",
      "24     TG16            1995          1995              0\n",
      "1       3DO            1994          1995              1\n",
      "11      NES            1983          1994             11\n",
      "22      SCD            1993          1994              1\n",
      "8       GEN            1990          1994              4\n",
      "9        GG            1992          1992              0\n",
      "0      2600            1980          1989              9\n",
      "Estadísticas sobre la duración de las plataformas:\n",
      "count    21.000000\n",
      "mean      6.809524\n",
      "std       6.345227\n",
      "min       0.000000\n",
      "25%       2.000000\n",
      "50%       6.000000\n",
      "75%       9.000000\n",
      "max      28.000000\n",
      "Name: live_duration, dtype: float64\n"
     ]
    },
    {
     "data": {
      "text/plain": [
       "<AxesSubplot:xlabel='live_duration'>"
      ]
     },
     "execution_count": 11,
     "metadata": {},
     "output_type": "execute_result"
    },
    {
     "data": {
      "image/png": "[encoded data removed]",
      "text/plain": [
       "<Figure size 640x480 with 1 Axes>"
      ]
     },
     "metadata": {},
     "output_type": "display_data"
    }
   ],
   "source": [
    "# Obtner año de inicio y fin de actividad por cada plataforma\n",
    "activity_platforms = df_platform_year_group.groupby('platform')['year_of_release'].agg(['min', 'max']).reset_index()\n",
    "activity_platforms.columns = ['platform', 'start_activity', 'end_activity']\n",
    "activity_platforms['live_duration'] = activity_platforms['end_activity'] - activity_platforms['start_activity']\n",
    "\n",
    "# Plataformas que no tienen ventas después de 2015\n",
    "platforms_inactivity = activity_platforms[activity_platforms[\"end_activity\"] < 2015]\n",
    "\n",
    "print(\"Plataformas desaparecidas antes de 2015:\")\n",
    "print(platforms_inactivity.sort_values(by='end_activity', ascending=False))\n",
    "\n",
    "print(\"Estadísticas sobre la duración de las plataformas:\")\n",
    "print(platforms_inactivity[\"live_duration\"].describe())\n",
    "\n",
    "sns.boxplot(platforms_inactivity[\"live_duration\"])"
   ]
  },
  {
   "cell_type": "markdown",
   "metadata": {},
   "source": [
    "*Las plataformas más exitosas en ventas son: PS2, X360, PS3, Wii y DS*\n",
    "\n",
    "*La mayoría de las plataformas tienen un periodo de duración de entre 0 y 13 años*\n",
    "\n",
    "*Algunas plataformas como PCFX, TG16 y GG desaparecieron rápidamente.*\n",
    "\n",
    "*El ciclo promedio de vida de una plataforma es de casi 7 años*"
   ]
  },
  {
   "cell_type": "markdown",
   "metadata": {},
   "source": [
    "*-Consideraré datos solo del año 2010 ya que considero que me pueden dar una buena muestra de información para lo que se necesita (no tiene datos atipicos y la distribución de datos se ve más equlibrada), me base en los datos arrojados en la visualización de líneas de las plataformas top.*"
   ]
  },
  {
   "cell_type": "code",
   "execution_count": 12,
   "metadata": {},
   "outputs": [
    {
     "data": {
      "text/html": [
       "<div>\n",
       "<style scoped>\n",
       "    .dataframe tbody tr th:only-of-type {\n",
       "        vertical-align: middle;\n",
       "    }\n",
       "\n",
       "    .dataframe tbody tr th {\n",
       "        vertical-align: top;\n",
       "    }\n",
       "\n",
       "    .dataframe thead th {\n",
       "        text-align: right;\n",
       "    }\n",
       "</style>\n",
       "<table border=\"1\" class=\"dataframe\">\n",
       "  <thead>\n",
       "    <tr style=\"text-align: right;\">\n",
       "      <th></th>\n",
       "      <th>platform</th>\n",
       "      <th>total_sales</th>\n",
       "    </tr>\n",
       "  </thead>\n",
       "  <tbody>\n",
       "    <tr>\n",
       "      <th>0</th>\n",
       "      <td>X360</td>\n",
       "      <td>170.03</td>\n",
       "    </tr>\n",
       "    <tr>\n",
       "      <th>1</th>\n",
       "      <td>PS3</td>\n",
       "      <td>142.17</td>\n",
       "    </tr>\n",
       "    <tr>\n",
       "      <th>2</th>\n",
       "      <td>Wii</td>\n",
       "      <td>127.95</td>\n",
       "    </tr>\n",
       "    <tr>\n",
       "      <th>3</th>\n",
       "      <td>DS</td>\n",
       "      <td>85.02</td>\n",
       "    </tr>\n",
       "    <tr>\n",
       "      <th>4</th>\n",
       "      <td>PSP</td>\n",
       "      <td>35.04</td>\n",
       "    </tr>\n",
       "    <tr>\n",
       "      <th>5</th>\n",
       "      <td>PC</td>\n",
       "      <td>24.28</td>\n",
       "    </tr>\n",
       "    <tr>\n",
       "      <th>6</th>\n",
       "      <td>PS2</td>\n",
       "      <td>5.64</td>\n",
       "    </tr>\n",
       "  </tbody>\n",
       "</table>\n",
       "</div>"
      ],
      "text/plain": [
       "  platform  total_sales\n",
       "0     X360       170.03\n",
       "1      PS3       142.17\n",
       "2      Wii       127.95\n",
       "3       DS        85.02\n",
       "4      PSP        35.04\n",
       "5       PC        24.28\n",
       "6      PS2         5.64"
      ]
     },
     "execution_count": 12,
     "metadata": {},
     "output_type": "execute_result"
    }
   ],
   "source": [
    "df_recent_data = df.query(\"year_of_release == 2010\")\n",
    "df_recent_top_platforms = df_recent_data.groupby(by='platform')['total_sales'].sum().sort_values(ascending=False).reset_index()\n",
    "df_recent_top_platforms"
   ]
  },
  {
   "cell_type": "code",
   "execution_count": 13,
   "metadata": {},
   "outputs": [
    {
     "data": {
      "text/plain": [
       "count      7.000000\n",
       "mean      84.304286\n",
       "std       64.317901\n",
       "min        5.640000\n",
       "25%       29.660000\n",
       "50%       85.020000\n",
       "75%      135.060000\n",
       "max      170.030000\n",
       "Name: total_sales, dtype: float64"
      ]
     },
     "execution_count": 13,
     "metadata": {},
     "output_type": "execute_result"
    },
    {
     "data": {
      "image/png": "[encoded data removed]",
      "text/plain": [
       "<Figure size 640x480 with 1 Axes>"
      ]
     },
     "metadata": {},
     "output_type": "display_data"
    }
   ],
   "source": [
    "sns.boxplot(df_recent_top_platforms['total_sales'])\n",
    "df_recent_top_platforms['total_sales'].describe()"
   ]
  },
  {
   "cell_type": "markdown",
   "metadata": {},
   "source": [
    "<div class=\"alert alert-block alert-warning\">\n",
    "    <b>Comentario del revisor</b> <a class=\"tocSkip\"></a>\n",
    "    \n",
    "Muy buen trabajo con el desarrollo de la gráfica de cajas, este tipo de gráficos nos ayuda a comparar resultados de manera precisa. Solamente recuerda que los graficos de box-plot nos ayudan a identificar outliers que posteriomente en el desarrollo de las pruebas de hipótesis nos servirían eliminar para que no puedan sesgar nuestros resultados. \n",
    "</div>"
   ]
  },
  {
   "cell_type": "markdown",
   "metadata": {},
   "source": [
    "<div class=\"alert alert-block alert-info\">\n",
    "<b>Comentario del alumno</b> <a class=\"tocSkip\"></a>\n",
    "<br>\n",
    "    Vale, lo tendré en cuenta, igual para esta sección decidí usar los datos del año 2010 porque fue el año en el que no encontré datos atípicos, podrías decirme si esta también es una buena elección?\n",
    "</div>"
   ]
  },
  {
   "cell_type": "markdown",
   "metadata": {},
   "source": [
    "<div class=\"alert alert-block alert-success\">\n",
    "<b>Comentario del revisor</b> <a class=\"tocSkip\"></a>\n",
    "\n",
    "Hola, si es una buena elección. De esta manera podemos identificar resultados que no tengan el sesgo de los valores atípicos"
   ]
  },
  {
   "cell_type": "markdown",
   "metadata": {},
   "source": [
    "*Las plataformas más rentables parecen ser X360, PS3 y Wii*\n",
    "\n",
    "*A pesar de que las plataformas PSP, PC\ty PS2 también entran en el top, presentan una gran diferencia del top 4 de las plataformas líderes en ventas para el año analizado*"
   ]
  },
  {
   "cell_type": "code",
   "execution_count": 14,
   "metadata": {},
   "outputs": [
    {
     "data": {
      "image/png": "[encoded data removed]",
      "text/plain": [
       "<Figure size 640x480 with 1 Axes>"
      ]
     },
     "metadata": {},
     "output_type": "display_data"
    },
    {
     "name": "stdout",
     "output_type": "stream",
     "text": [
      "Coeficiente de correlación Ventas / critica de usuario\n",
      "0.07263479706910927\n",
      "\n"
     ]
    },
    {
     "data": {
      "image/png": "[encoded data removed]",
      "text/plain": [
       "<Figure size 640x480 with 1 Axes>"
      ]
     },
     "metadata": {},
     "output_type": "display_data"
    },
    {
     "name": "stdout",
     "output_type": "stream",
     "text": [
      "Coeficiente de correlación Ventas / critica de profesional\n",
      "0.25601989975026684\n"
     ]
    }
   ],
   "source": [
    "df_x360 = df_recent_data.query(\"platform == 'X360'\")\n",
    "df_x360.plot(x='platform',\n",
    "            y='user_score',\n",
    "            kind='scatter')\n",
    "plt.show()\n",
    "print('Coeficiente de correlación Ventas / critica de usuario')\n",
    "print(df_x360['total_sales'].corr(df_x360['user_score']))\n",
    "print()\n",
    "df_x360 = df_recent_data.query(\"platform == 'X360'\")\n",
    "df_x360.plot(x='platform',\n",
    "            y='critic_score',\n",
    "            kind='scatter')\n",
    "plt.show()\n",
    "print('Coeficiente de correlación Ventas / critica de profesional')\n",
    "print(df_x360['total_sales'].corr(df_x360['critic_score']))"
   ]
  },
  {
   "cell_type": "markdown",
   "metadata": {},
   "source": [
    "*El resultado del cálculo de la correlación indica que las criticas de los profesionales influyen de una manera má fuerte en las ventas de los juegos que las criticas de los usuarios.*"
   ]
  },
  {
   "cell_type": "code",
   "execution_count": 15,
   "metadata": {},
   "outputs": [
    {
     "name": "stdout",
     "output_type": "stream",
     "text": [
      "                               name platform  total_sales\n",
      "0                Kinect Adventures!     X360        21.82\n",
      "1           Call of Duty: Black Ops     X360        14.62\n",
      "2           Call of Duty: Black Ops      PS3        12.63\n",
      "3                    Gran Turismo 5      PS3        10.70\n",
      "4                       Halo: Reach     X360         9.86\n",
      "5                      Just Dance 2      Wii         9.44\n",
      "6                         Wii Party      Wii         8.38\n",
      "7              Super Mario Galaxy 2      Wii         7.51\n",
      "8                     Zumba Fitness      Wii         6.70\n",
      "9               Red Dead Redemption      PS3         6.48\n",
      "10      Donkey Kong Country Returns      Wii         6.45\n",
      "11              Red Dead Redemption     X360         6.32\n",
      "12                    Kinect Sports     X360         6.19\n",
      "13                        Fable III     X360         5.10\n",
      "14                   FIFA Soccer 11      PS3         5.07\n",
      "15         Monster Hunter Freedom 3      PSP         4.87\n",
      "16                   God of War III      PS3         4.80\n",
      "17  Michael Jackson: The Experience      Wii         4.37\n",
      "18               Fallout: New Vegas     X360         4.06\n",
      "19                 Sports Champions      PS3         3.85\n",
      "20                   FIFA Soccer 11     X360         3.52\n",
      "21    Assassin's Creed: Brotherhood     X360         3.50\n",
      "22       Battlefield: Bad Company 2     X360         3.47\n",
      "23                    Dance Central     X360         3.18\n",
      "24               Fallout: New Vegas      PS3         3.11\n",
      "25                    Mass Effect 2     X360         3.10\n",
      "26                       Heavy Rain      PS3         3.03\n",
      "27                      Epic Mickey      Wii         3.01\n",
      "28       Battlefield: Bad Company 2      PS3         2.95\n",
      "29    Assassin's Creed: Brotherhood      PS3         2.82\n"
     ]
    }
   ],
   "source": [
    "#Se evaluaran los juegos solo de las plataformas X360, Wii, PSP, PS2 y PS3\n",
    "platforms = ['X360', 'Wii', 'PSP', 'PS2', 'PS3']\n",
    "df_filtered_data = df_recent_data.query(\"platform in @platforms\")\n",
    "df_games_grouped = df_filtered_data.groupby(by=['name', 'platform'])['total_sales'].sum().sort_values(ascending=False).reset_index()\n",
    "print(df_games_grouped.head(30))"
   ]
  },
  {
   "cell_type": "markdown",
   "metadata": {},
   "source": [
    "*La ventas del mismo juego pero en diferente plataforma si presentan alguna diferencia en ventas, como el caso de \"Call of Duty: Black Ops\", \"Red Dead Redemption\" o \"Assassin's Creed: Brotherhood\" mostrados en la tabla anterior.*"
   ]
  },
  {
   "cell_type": "code",
   "execution_count": 16,
   "metadata": {},
   "outputs": [
    {
     "data": {
      "text/html": [
       "<div>\n",
       "<style scoped>\n",
       "    .dataframe tbody tr th:only-of-type {\n",
       "        vertical-align: middle;\n",
       "    }\n",
       "\n",
       "    .dataframe tbody tr th {\n",
       "        vertical-align: top;\n",
       "    }\n",
       "\n",
       "    .dataframe thead th {\n",
       "        text-align: right;\n",
       "    }\n",
       "</style>\n",
       "<table border=\"1\" class=\"dataframe\">\n",
       "  <thead>\n",
       "    <tr style=\"text-align: right;\">\n",
       "      <th></th>\n",
       "      <th>genre</th>\n",
       "      <th>total_sales</th>\n",
       "    </tr>\n",
       "  </thead>\n",
       "  <tbody>\n",
       "    <tr>\n",
       "      <th>0</th>\n",
       "      <td>Action</td>\n",
       "      <td>115.29</td>\n",
       "    </tr>\n",
       "    <tr>\n",
       "      <th>1</th>\n",
       "      <td>Misc</td>\n",
       "      <td>95.14</td>\n",
       "    </tr>\n",
       "    <tr>\n",
       "      <th>2</th>\n",
       "      <td>Sports</td>\n",
       "      <td>91.24</td>\n",
       "    </tr>\n",
       "    <tr>\n",
       "      <th>3</th>\n",
       "      <td>Shooter</td>\n",
       "      <td>76.83</td>\n",
       "    </tr>\n",
       "    <tr>\n",
       "      <th>4</th>\n",
       "      <td>Role-Playing</td>\n",
       "      <td>69.65</td>\n",
       "    </tr>\n",
       "    <tr>\n",
       "      <th>5</th>\n",
       "      <td>Racing</td>\n",
       "      <td>34.37</td>\n",
       "    </tr>\n",
       "    <tr>\n",
       "      <th>6</th>\n",
       "      <td>Platform</td>\n",
       "      <td>31.04</td>\n",
       "    </tr>\n",
       "    <tr>\n",
       "      <th>7</th>\n",
       "      <td>Simulation</td>\n",
       "      <td>21.49</td>\n",
       "    </tr>\n",
       "    <tr>\n",
       "      <th>8</th>\n",
       "      <td>Adventure</td>\n",
       "      <td>15.96</td>\n",
       "    </tr>\n",
       "    <tr>\n",
       "      <th>9</th>\n",
       "      <td>Fighting</td>\n",
       "      <td>14.69</td>\n",
       "    </tr>\n",
       "    <tr>\n",
       "      <th>10</th>\n",
       "      <td>Strategy</td>\n",
       "      <td>13.68</td>\n",
       "    </tr>\n",
       "    <tr>\n",
       "      <th>11</th>\n",
       "      <td>Puzzle</td>\n",
       "      <td>10.75</td>\n",
       "    </tr>\n",
       "  </tbody>\n",
       "</table>\n",
       "</div>"
      ],
      "text/plain": [
       "           genre  total_sales\n",
       "0         Action       115.29\n",
       "1           Misc        95.14\n",
       "2         Sports        91.24\n",
       "3        Shooter        76.83\n",
       "4   Role-Playing        69.65\n",
       "5         Racing        34.37\n",
       "6       Platform        31.04\n",
       "7     Simulation        21.49\n",
       "8      Adventure        15.96\n",
       "9       Fighting        14.69\n",
       "10      Strategy        13.68\n",
       "11        Puzzle        10.75"
      ]
     },
     "execution_count": 16,
     "metadata": {},
     "output_type": "execute_result"
    }
   ],
   "source": [
    "df_top_genre = df_recent_data.groupby(by='genre')['total_sales'].sum().sort_values(ascending=False).reset_index()\n",
    "df_top_genre"
   ]
  },
  {
   "cell_type": "markdown",
   "metadata": {},
   "source": [
    "*De acuerdo con los resultados arrojados en la hipótesis de más delante, podemos decir que los géneros de Acción y Deportes son parte de los generos top del año evaluado, ya que siguen estando al menos en el top 3 de ventas.*"
   ]
  },
  {
   "cell_type": "markdown",
   "metadata": {},
   "source": [
    "### Crear perfil de usuario para cada región"
   ]
  },
  {
   "cell_type": "code",
   "execution_count": 17,
   "metadata": {},
   "outputs": [
    {
     "name": "stdout",
     "output_type": "stream",
     "text": [
      "  platform  na_sales\n",
      "0     X360    107.38\n",
      "1      Wii     72.64\n",
      "2      PS3     60.99\n",
      "3       DS     40.80\n",
      "4       PC      9.19\n",
      "------------------\n",
      "  platform  eu_sales\n",
      "0      PS3     50.50\n",
      "1     X360     46.31\n",
      "2      Wii     36.31\n",
      "3       DS     18.82\n",
      "4       PC     12.12\n",
      "------------------\n",
      "  platform  jp_sales\n",
      "0       DS     19.86\n",
      "1      PSP     18.16\n",
      "2      PS3      9.87\n",
      "3      Wii      8.78\n",
      "4     X360      2.11\n",
      "------------------\n"
     ]
    }
   ],
   "source": [
    "df_top_platform_na_sales = df_recent_data.groupby(by='platform')['na_sales'].sum().sort_values(ascending=False).head().reset_index()\n",
    "print(df_top_platform_na_sales)\n",
    "print('------------------')\n",
    "df_top_platform_eu_sales = df_recent_data.groupby(by='platform')['eu_sales'].sum().sort_values(ascending=False).head().reset_index()\n",
    "print(df_top_platform_eu_sales)\n",
    "print('------------------')\n",
    "df_top_platform_jp_sales = df_recent_data.groupby(by='platform')['jp_sales'].sum().sort_values(ascending=False).head().reset_index()\n",
    "print(df_top_platform_jp_sales)\n",
    "print('------------------')"
   ]
  },
  {
   "cell_type": "markdown",
   "metadata": {},
   "source": [
    "*Según los resultados obtenidos, las ventas que se realizan en Norteamérica encabezan la lista de las 3 regiones dadas en el dataset.*"
   ]
  },
  {
   "cell_type": "code",
   "execution_count": 18,
   "metadata": {},
   "outputs": [
    {
     "name": "stdout",
     "output_type": "stream",
     "text": [
      "          genre  na_sales\n",
      "0        Action     59.72\n",
      "1          Misc     54.11\n",
      "2        Sports     48.11\n",
      "3       Shooter     43.04\n",
      "4  Role-Playing     28.27\n",
      "------------------\n",
      "     genre  eu_sales\n",
      "0   Action     34.51\n",
      "1   Sports     28.36\n",
      "2     Misc     26.37\n",
      "3  Shooter     23.43\n",
      "4   Racing     14.17\n",
      "------------------\n",
      "          genre  jp_sales\n",
      "0  Role-Playing     23.67\n",
      "1        Action      8.58\n",
      "2          Misc      6.69\n",
      "3        Sports      4.42\n",
      "4      Platform      3.68\n",
      "------------------\n"
     ]
    }
   ],
   "source": [
    "df_top_genre_na_sales = df_recent_data.groupby(by='genre')['na_sales'].sum().sort_values(ascending=False).head().reset_index()\n",
    "print(df_top_genre_na_sales)\n",
    "print('------------------')\n",
    "df_top_genre_eu_sales = df_recent_data.groupby(by='genre')['eu_sales'].sum().sort_values(ascending=False).head().reset_index()\n",
    "print(df_top_genre_eu_sales)\n",
    "print('------------------')\n",
    "df_top_genre_jp_sales = df_recent_data.groupby(by='genre')['jp_sales'].sum().sort_values(ascending=False).head().reset_index()\n",
    "print(df_top_genre_jp_sales)\n",
    "print('------------------')"
   ]
  },
  {
   "cell_type": "markdown",
   "metadata": {},
   "source": [
    "Los géneros de \"Action\" y \"Sports\" están al menos dentro del top 3 en las 3 regiones de las que tenemos información. Esto indica que estos géneros generan buenas ventas.*"
   ]
  },
  {
   "cell_type": "code",
   "execution_count": 19,
   "metadata": {},
   "outputs": [
    {
     "name": "stdout",
     "output_type": "stream",
     "text": [
      "Ventas promedio por rating:\n",
      "  rating  na_sales  eu_sales  jp_sales\n",
      "0         0.070241  0.050066  0.072982\n",
      "1      E  0.315563  0.173781  0.034969\n",
      "2   E10+  0.283401  0.144762  0.013537\n",
      "3     EC  0.177500  0.000000  0.000000\n",
      "4      M  0.760515  0.430722  0.044433\n",
      "5      T  0.222944  0.129524  0.037749\n"
     ]
    }
   ],
   "source": [
    "# Agrupar datos por rating\n",
    "sales_rating = df_recent_data.groupby('rating')[['na_sales', 'eu_sales', 'jp_sales']].mean().reset_index()\n",
    "\n",
    "print(\"Ventas promedio por rating:\")\n",
    "print(sales_rating)"
   ]
  },
  {
   "cell_type": "markdown",
   "metadata": {},
   "source": [
    "*El resultado parece indicar que el valor o clasificación de ESRB tiene un mayor influencia en las ventas realizadas en la región de Noteamérica.*"
   ]
  },
  {
   "cell_type": "markdown",
   "metadata": {},
   "source": [
    "### Probar hipótesis"
   ]
  },
  {
   "cell_type": "code",
   "execution_count": 20,
   "metadata": {},
   "outputs": [
    {
     "name": "stdout",
     "output_type": "stream",
     "text": [
      "valor p:  3.0805393656762035e-05\n",
      "Rechazamos hipótesis nula\n"
     ]
    }
   ],
   "source": [
    "df_xbox_user_score = df.query(\"platform == 'XOne'\")\n",
    "df_pc_user_score = df.query(\"platform == 'PC'\")\n",
    "alpha = 0.05\n",
    "results_user_score = st.ttest_ind(df_xbox_user_score['user_score'], df_pc_user_score['user_score'])\n",
    "print('valor p: ', results_user_score.pvalue)\n",
    "if results_user_score.pvalue < alpha:\n",
    "    print(\"Rechazamos hipótesis nula\")\n",
    "else:\n",
    "    print(\"No podemos rechazar la hipótesis nula\")"
   ]
  },
  {
   "cell_type": "markdown",
   "metadata": {},
   "source": [
    "*Las calificaciones promedio de las plataformas evaluadas difieren por lo que debemos rechazar una hipótesis nula y dar lugar a una hipótesis alternativa.*"
   ]
  },
  {
   "cell_type": "code",
   "execution_count": 35,
   "metadata": {},
   "outputs": [
    {
     "name": "stdout",
     "output_type": "stream",
     "text": [
      "LeveneResult(statistic=3.0795672119545534, pvalue=0.07953637655042518)\n",
      "No hay evidencia suficiente para rechazar la igualdad de varianzas\n"
     ]
    }
   ],
   "source": [
    "df_action_user_score = df.query(\"genre == 'Action'\")\n",
    "df_sports_user_score = df.query(\"genre == 'Sports'\")\n",
    "alpha = 0.05\n",
    "print(st.levene(df_xbox_user_score['user_score'], df_pc_user_score['user_score']))\n",
    "valor_p = st.levene(df_xbox_user_score['user_score'], df_pc_user_score['user_score'])[1]\n",
    "if valor_p < alpha:\n",
    "    print(\"Las varianzas son significativamente diferentes\")\n",
    "else:\n",
    "    print(\"No hay evidencia suficiente para rechazar la igualdad de varianzas\")"
   ]
  },
  {
   "cell_type": "markdown",
   "metadata": {},
   "source": [
    "*El resultado de la prueba de Levene nos indica que las varianzas de ambas poblaciones son similares, esto nos servirá para indicar el valor a asignar en el parametro \"equal_var\" de la función \"st.ttest_ind\"*"
   ]
  },
  {
   "cell_type": "code",
   "execution_count": 37,
   "metadata": {},
   "outputs": [
    {
     "name": "stdout",
     "output_type": "stream",
     "text": [
      "valor p:  0.1259309075650335\n",
      "No podemos rechazar la hipótesis nula\n"
     ]
    }
   ],
   "source": [
    "results_genre_user_score = st.ttest_ind(df_action_user_score['user_score'], df_sports_user_score['user_score'])\n",
    "print('valor p: ', results_genre_user_score.pvalue)\n",
    "if results_genre_user_score.pvalue < alpha:\n",
    "    print(\"Rechazamos hipótesis nula\")\n",
    "else:\n",
    "    print(\"No podemos rechazar la hipótesis nula\")"
   ]
  },
  {
   "cell_type": "markdown",
   "metadata": {},
   "source": [
    " <div class=\"alert alert-block alert-danger\">\n",
    "<b>Comentario revisor</b> <a class=\"tocSkip\"></a>\n",
    "\n",
    "Para estas pruebas te recomiendo hacer una prueba de  Levene  para mostrar si las varianzas son iguales y agregarlo dentro de la función. Actualmente lo colocar como equal_var=True. Para esto, primero debes calcular las varianzas para cada uno de las plataformas y en un segundo tiempo debes de hacer uso de la siguiente función: \n",
    "    \n",
    "    levene(df_xbox_user_score['user_score'], df_pc_user_score['user_score'])\n",
    "    \n",
    "Adoptaremos un nivel de significancia de 0.05; si el valor p resultante es mayor a 0.05, no podemos rechazar la hipótesis nula, y si es menor a 0.05, rechazamos la hipótesis nula, indicando que las varianzas no son iguales. \n",
    "    \n",
    "Solamente recuerda que la prueba de levene no es sustituto a la prueba de st.ttest_ind, más bien es complemento para saber que colocar dentro del elemento \"equal_var\". En este caso como rechazamos la hipótesis de varianzas iguales debemos de colocar False. Es por eso que para terminar la prueba debes de realizar la prueba de st.ttest_ind considernado el resultado de la prueba realizada de levene    \n",
    "</div>"
   ]
  },
  {
   "cell_type": "markdown",
   "metadata": {},
   "source": [
    "<div class=\"alert alert-block alert-info\">\n",
    "<b>Comentario del alumno</b> <a class=\"tocSkip\"></a>\n",
    "    <br>\n",
    "Hola, me parece interesante la función que propones para poder saber si las varianzas de ambas muestras pueden considerarse iguales o no, en primera instancia omití el paso donde se hace esta comprobación, muchas gracias por ayudarme a corregirlo. Por otro lado, corrígeme si me equivoco pero creo que durante el curso no se abordo esta función, por eso es que no me cruzo por la mente usarla, espero que la manera en la que se agrego en la parte de arriba sea la correcta.\n",
    "</div>"
   ]
  },
  {
   "cell_type": "markdown",
   "metadata": {},
   "source": [
    "<div class=\"alert alert-block alert-success\">\n",
    "<b>Comentario del revisor</b> <a class=\"tocSkip\"></a>\n",
    "\n",
    "Hola, Israel! Es perfecta la forma en la que la agregas, vas a poder seguir explorando esta herramienta en los siguientes proyectos. Sigue disfrutando los siguientes cursos"
   ]
  },
  {
   "cell_type": "markdown",
   "metadata": {},
   "source": [
    "*Las calificaciones promedio de los usuarios para los géneros de Acción y Deportes indican que no podemos rechazar una hipótesis nula. Ambos géneros son bien recibidos por los usuarios.*\n",
    "\n",
    "*Para probar ambas hipótesis use el criterio sobre la igualdad de las medias de dos poblaciones ya que tengo los datos requeridos para cada población almacenados en una variable después de haber filtrado seguún los criterios establecidos.*"
   ]
  }
 ],
 "metadata": {
  "kernelspec": {
   "display_name": "Python 3 (ipykernel)",
   "language": "python",
   "name": "python3"
  },
  "language_info": {
   "codemirror_mode": {
    "name": "ipython",
    "version": 3
   },
   "file_extension": ".py",
   "mimetype": "text/x-python",
   "name": "python",
   "nbconvert_exporter": "python",
   "pygments_lexer": "ipython3",
   "version": "3.9.23"
  }
 },
 "nbformat": 4,
 "nbformat_minor": 4
}
